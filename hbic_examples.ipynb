{
 "cells": [
  {
   "cell_type": "code",
   "execution_count": 1,
   "id": "58b64fd3",
   "metadata": {},
   "outputs": [],
   "source": [
    "import numpy as np\n",
    "import pandas as pd\n",
    "import heterogeneous_biclustering.hbic as hbic\n",
    "import heterogeneous_biclustering.utils.measure_metrics as measure"
   ]
  },
  {
   "cell_type": "code",
   "execution_count": 2,
   "id": "506b16be",
   "metadata": {},
   "outputs": [
    {
     "data": {
      "text/plain": [
       "([(array([False,  True, False, False, False,  True, False, False, False,\n",
       "           True]),\n",
       "   array([ True, False,  True, False, False, False, False, False,  True,\n",
       "          False]))],\n",
       " array([1.]))"
      ]
     },
     "execution_count": 2,
     "metadata": {},
     "output_type": "execute_result"
    }
   ],
   "source": [
    "a = np.random.randint(0,3, (10, 10))\n",
    "res = hbic.Hbic(min_cols = 2, min_rows = 2, reduction = \"selection\", n_clusters = 1)\n",
    "bic = res.fit_predict(a)\n",
    "bic, res.score"
   ]
  },
  {
   "cell_type": "code",
   "execution_count": 3,
   "id": "c79a66c7",
   "metadata": {},
   "outputs": [
    {
     "name": "stdout",
     "output_type": "stream",
     "text": [
      "The identified bicluster is \n",
      " [[1 0 0]\n",
      " [1 0 0]\n",
      " [1 0 0]]\n"
     ]
    }
   ],
   "source": [
    "print(\"The identified bicluster is \\n\", a[np.ix_(bic[0][0], bic[0][1])])"
   ]
  },
  {
   "cell_type": "code",
   "execution_count": 4,
   "id": "38a38d63",
   "metadata": {},
   "outputs": [
    {
     "name": "stderr",
     "output_type": "stream",
     "text": [
      "100%|████████████████████████████████████████████████████████████████████████████████| 300/300 [00:36<00:00,  8.26it/s]\n"
     ]
    },
    {
     "data": {
      "text/plain": [
       "(0.6907837311256366, 1.0, 0.6717667871123155, 0.5187065148640102)"
      ]
     },
     "execution_count": 4,
     "metadata": {},
     "output_type": "execute_result"
    }
   ],
   "source": [
    "datafile = \"datasets/het-data/hn3/number_3_10_data.csv\"\n",
    "varfile = \"datasets/het-data/hn3/number_3_10_vars.csv\"\n",
    "#mapping categorical variables to their int id\n",
    "df = pd.read_csv(datafile)\n",
    "for i in df.columns:\n",
    "    if pd.api.types.is_string_dtype(df[i]):\n",
    "        df[i] = df[i].astype(\"category\").cat.codes\n",
    "var_type = pd.read_csv(varfile)\n",
    "var_type = list(var_type[\"var_dtype\"])\n",
    "arr = df.to_numpy()\n",
    "\n",
    "res = hbic.Hbic(min_rows = .03, min_cols = .03, verbose = True, reduction = \"auto_select\") \n",
    "bic = res.fit_predict(arr, var_type)\n",
    "ref_bic = measure.get_ref_biclusters(3, arr.shape)\n",
    "\n",
    "\n",
    "measure.prelic_relevance(bic, ref_bic), measure.prelic_recovery(bic, ref_bic),  measure.l_and_w(bic,ref_bic), measure.ayadi(bic, ref_bic) "
   ]
  },
  {
   "cell_type": "code",
   "execution_count": 5,
   "id": "c8ac493d",
   "metadata": {},
   "outputs": [
    {
     "name": "stderr",
     "output_type": "stream",
     "text": [
      "100%|████████████████████████████████████████████████████████████████████████████████| 200/200 [00:11<00:00, 17.72it/s]\n"
     ]
    },
    {
     "data": {
      "text/plain": [
       "1"
      ]
     },
     "execution_count": 5,
     "metadata": {},
     "output_type": "execute_result"
    }
   ],
   "source": [
    "df = pd.read_csv(\"datasets/padilha_constant/original/original1.txt\", delimiter='\\t')\n",
    "df = df.drop('GENES', axis = 1)\n",
    "arr = df.to_numpy()\n",
    "res = hbic.Hbic( verbose = True, reduction = \"merge\", n_clusters = 1) \n",
    "bic = res.fit_predict(arr)\n",
    "len(bic)"
   ]
  }
 ],
 "metadata": {
  "kernelspec": {
   "display_name": "Python 3 (ipykernel)",
   "language": "python",
   "name": "python3"
  },
  "language_info": {
   "codemirror_mode": {
    "name": "ipython",
    "version": 3
   },
   "file_extension": ".py",
   "mimetype": "text/x-python",
   "name": "python",
   "nbconvert_exporter": "python",
   "pygments_lexer": "ipython3",
   "version": "3.11.0"
  }
 },
 "nbformat": 4,
 "nbformat_minor": 5
}
