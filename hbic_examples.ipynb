{
 "cells": [
  {
   "cell_type": "code",
   "execution_count": 7,
   "id": "58b64fd3",
   "metadata": {},
   "outputs": [],
   "source": [
    "import numpy as np\n",
    "import pandas as pd\n",
    "from hbic import Hbic\n",
    "import hbic.utils.metrics as measure"
   ]
  },
  {
   "cell_type": "code",
   "execution_count": 8,
   "id": "506b16be",
   "metadata": {},
   "outputs": [
    {
     "data": {
      "text/plain": [
       "[(array([False,  True, False, False,  True, False, False, False, False,\n",
       "         False]),\n",
       "  array([False,  True, False, False,  True, False,  True, False,  True,\n",
       "         False])),\n",
       " (array([ True, False, False, False, False, False, False, False, False,\n",
       "          True]),\n",
       "  array([False, False, False,  True, False,  True,  True,  True, False,\n",
       "         False])),\n",
       " (array([False,  True, False, False, False, False, False,  True, False,\n",
       "         False]),\n",
       "  array([False, False, False, False, False,  True, False, False,  True,\n",
       "          True])),\n",
       " (array([False, False,  True, False, False, False, False,  True, False,\n",
       "         False]),\n",
       "  array([ True,  True, False, False,  True, False, False, False, False,\n",
       "         False])),\n",
       " (array([ True, False, False, False, False, False, False, False,  True,\n",
       "         False]),\n",
       "  array([False, False, False,  True,  True, False, False, False,  True,\n",
       "         False])),\n",
       " (array([False, False, False,  True, False,  True, False, False, False,\n",
       "         False]),\n",
       "  array([False, False, False, False,  True,  True, False,  True, False,\n",
       "         False])),\n",
       " (array([False, False, False,  True,  True,  True, False, False, False,\n",
       "         False]),\n",
       "  array([False, False, False, False, False,  True, False,  True,  True,\n",
       "         False])),\n",
       " (array([False, False,  True, False, False, False, False, False, False,\n",
       "          True]),\n",
       "  array([ True, False,  True, False, False, False, False, False,  True,\n",
       "         False])),\n",
       " (array([ True, False, False, False, False, False, False, False,  True,\n",
       "         False]),\n",
       "  array([False, False, False,  True,  True, False, False, False,  True,\n",
       "          True])),\n",
       " (array([ True, False, False, False, False, False,  True, False, False,\n",
       "         False]),\n",
       "  array([ True,  True, False, False, False,  True,  True, False,  True,\n",
       "          True])),\n",
       " (array([ True, False, False, False, False, False, False, False,  True,\n",
       "          True]),\n",
       "  array([False, False, False,  True,  True, False, False,  True, False,\n",
       "          True])),\n",
       " (array([False, False, False, False,  True,  True, False, False, False,\n",
       "         False]),\n",
       "  array([False,  True, False, False, False,  True, False,  True,  True,\n",
       "         False])),\n",
       " (array([ True, False, False,  True, False, False, False, False, False,\n",
       "         False]),\n",
       "  array([ True, False,  True,  True, False, False, False, False, False,\n",
       "         False])),\n",
       " (array([False, False, False,  True,  True, False, False, False, False,\n",
       "         False]),\n",
       "  array([False, False,  True, False, False, False, False, False,  True,\n",
       "          True])),\n",
       " (array([False,  True,  True, False, False, False, False, False, False,\n",
       "         False]),\n",
       "  array([False, False,  True,  True, False, False, False,  True, False,\n",
       "         False]))]"
      ]
     },
     "execution_count": 8,
     "metadata": {},
     "output_type": "execute_result"
    }
   ],
   "source": [
    "a = np.random.randint(0,3, (10, 10))\n",
    "res = Hbic(min_cols = 2, min_rows = 2, reduction = \"pareto\", n_clusters = 1)\n",
    "bic = res.fit_predict(a)\n",
    "bic"
   ]
  },
  {
   "cell_type": "code",
   "execution_count": 9,
   "id": "c79a66c7",
   "metadata": {},
   "outputs": [
    {
     "name": "stdout",
     "output_type": "stream",
     "text": [
      "The first identified bicluster has values \n",
      " [[0 0 0 0]\n",
      " [0 0 0 0]]\n"
     ]
    }
   ],
   "source": [
    "print(\"The first identified bicluster has values \\n\", a[np.ix_(bic[0][0], bic[0][1])])"
   ]
  },
  {
   "cell_type": "code",
   "execution_count": 10,
   "id": "38a38d63",
   "metadata": {},
   "outputs": [
    {
     "name": "stderr",
     "output_type": "stream",
     "text": [
      "100%|██████████| 500/500 [00:08<00:00, 61.50it/s]"
     ]
    },
    {
     "name": "stdout",
     "output_type": "stream",
     "text": [
      "The first identified bicluster has values \n",
      " [[ 0.13  4.22 -1.54 ... -1.17  8.68 -2.95]\n",
      " [ 0.13  4.22 -1.54 ... -1.17  8.68 -2.95]\n",
      " [ 0.13  4.22 -1.54 ... -1.17  8.68 -2.95]\n",
      " ...\n",
      " [ 0.13  4.22 -1.54 ... -1.17  8.68 -2.95]\n",
      " [ 0.13  4.22 -1.54 ... -1.17  8.68 -2.95]\n",
      " [ 0.13  4.22 -1.54 ... -1.17  8.68 -2.95]]\n"
     ]
    },
    {
     "name": "stderr",
     "output_type": "stream",
     "text": [
      "\n"
     ]
    }
   ],
   "source": [
    "datafile = \"tests\\datasets\\GBIC\\EXP1_Heterogeneity_Level\\HL0\\hdataset_exp1_HL0_101_data.tsv\"\n",
    "#mapping categorical variables to their int id\n",
    "df = pd.read_csv(datafile, sep = \"\\t\", index_col = 0)\n",
    "arr = df.to_numpy()\n",
    "\n",
    "res = Hbic(min_rows = .03, min_cols = .03, verbose = True, reduction = \"auto_select\") \n",
    "bic = res.fit_predict(arr)\n",
    "print(\"The first identified bicluster has values \\n\", arr[np.ix_(bic[0][0], bic[0][1])])"
   ]
  }
 ],
 "metadata": {
  "kernelspec": {
   "display_name": "Python 3 (ipykernel)",
   "language": "python",
   "name": "python3"
  },
  "language_info": {
   "codemirror_mode": {
    "name": "ipython",
    "version": 3
   },
   "file_extension": ".py",
   "mimetype": "text/x-python",
   "name": "python",
   "nbconvert_exporter": "python",
   "pygments_lexer": "ipython3",
   "version": "3.9.15"
  }
 },
 "nbformat": 4,
 "nbformat_minor": 5
}
