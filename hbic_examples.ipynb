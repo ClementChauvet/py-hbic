{
 "cells": [
  {
   "cell_type": "code",
   "execution_count": 1,
   "id": "58b64fd3",
   "metadata": {},
   "outputs": [],
   "source": [
    "import numpy as np\n",
    "import pandas as pd\n",
    "from hbic import Hbic\n",
    "import hbic.utils.metrics as measure"
   ]
  },
  {
   "cell_type": "code",
   "execution_count": 2,
   "id": "506b16be",
   "metadata": {},
   "outputs": [
    {
     "ename": "IndexError",
     "evalue": "only integers, slices (`:`), ellipsis (`...`), numpy.newaxis (`None`) and integer or boolean arrays are valid indices",
     "output_type": "error",
     "traceback": [
      "\u001b[1;31m---------------------------------------------------------------------------\u001b[0m",
      "\u001b[1;31mIndexError\u001b[0m                                Traceback (most recent call last)",
      "Cell \u001b[1;32mIn[2], line 3\u001b[0m\n\u001b[0;32m      1\u001b[0m a \u001b[38;5;241m=\u001b[39m np\u001b[38;5;241m.\u001b[39mrandom\u001b[38;5;241m.\u001b[39mrandint(\u001b[38;5;241m0\u001b[39m,\u001b[38;5;241m3\u001b[39m, (\u001b[38;5;241m10\u001b[39m, \u001b[38;5;241m10\u001b[39m))\n\u001b[0;32m      2\u001b[0m res \u001b[38;5;241m=\u001b[39m Hbic(min_cols \u001b[38;5;241m=\u001b[39m \u001b[38;5;241m2\u001b[39m, min_rows \u001b[38;5;241m=\u001b[39m \u001b[38;5;241m2\u001b[39m, reduction \u001b[38;5;241m=\u001b[39m \u001b[38;5;124m\"\u001b[39m\u001b[38;5;124mselection\u001b[39m\u001b[38;5;124m\"\u001b[39m, n_clusters \u001b[38;5;241m=\u001b[39m \u001b[38;5;241m1\u001b[39m)\n\u001b[1;32m----> 3\u001b[0m bic \u001b[38;5;241m=\u001b[39m \u001b[43mres\u001b[49m\u001b[38;5;241;43m.\u001b[39;49m\u001b[43mfit_predict\u001b[49m\u001b[43m(\u001b[49m\u001b[43ma\u001b[49m\u001b[43m)\u001b[49m\n\u001b[0;32m      4\u001b[0m bic, res\u001b[38;5;241m.\u001b[39mscore\n",
      "File \u001b[1;32mc:\\Users\\chauv\\Documents\\GitHub\\py-hbic\\hbic\\hbic.py:342\u001b[0m, in \u001b[0;36mHbic.fit_predict\u001b[1;34m(self, data, var_type, n_clusters)\u001b[0m\n\u001b[0;32m    331\u001b[0m \u001b[38;5;28;01mdef\u001b[39;00m \u001b[38;5;21mfit_predict\u001b[39m(\u001b[38;5;28mself\u001b[39m, data, var_type\u001b[38;5;241m=\u001b[39m\u001b[38;5;28;01mNone\u001b[39;00m, n_clusters \u001b[38;5;241m=\u001b[39m \u001b[38;5;28;01mNone\u001b[39;00m):\n\u001b[0;32m    332\u001b[0m \u001b[38;5;250m    \u001b[39m\u001b[38;5;124;03m\"\"\"\u001b[39;00m\n\u001b[0;32m    333\u001b[0m \u001b[38;5;124;03m    Use the Hbic algorithm and returns biclusters\u001b[39;00m\n\u001b[0;32m    334\u001b[0m \n\u001b[1;32m   (...)\u001b[0m\n\u001b[0;32m    339\u001b[0m \u001b[38;5;124;03m    first array is a mask on the rows and the second is a mask on the columns\u001b[39;00m\n\u001b[0;32m    340\u001b[0m \u001b[38;5;124;03m    \"\"\"\u001b[39;00m\n\u001b[1;32m--> 342\u001b[0m     \u001b[38;5;28;43mself\u001b[39;49m\u001b[38;5;241;43m.\u001b[39;49m\u001b[43mfit\u001b[49m\u001b[43m(\u001b[49m\u001b[43mdata\u001b[49m\u001b[43m,\u001b[49m\u001b[43m \u001b[49m\u001b[43mvar_type\u001b[49m\u001b[43m)\u001b[49m\n\u001b[0;32m    344\u001b[0m     \u001b[38;5;28;01mreturn\u001b[39;00m \u001b[38;5;28mself\u001b[39m\u001b[38;5;241m.\u001b[39mbiclusters\n",
      "File \u001b[1;32mc:\\Users\\chauv\\Documents\\GitHub\\py-hbic\\hbic\\hbic.py:306\u001b[0m, in \u001b[0;36mHbic.fit\u001b[1;34m(self, data, var_type, n_clusters)\u001b[0m\n\u001b[0;32m    304\u001b[0m temp_data \u001b[38;5;241m=\u001b[39m arr_discretized[rows_ids_bic, :]\n\u001b[0;32m    305\u001b[0m val, column \u001b[38;5;241m=\u001b[39m \u001b[38;5;28mself\u001b[39m\u001b[38;5;241m.\u001b[39m_find_best_column(temp_data, remaining_columns)\n\u001b[1;32m--> 306\u001b[0m rows \u001b[38;5;241m=\u001b[39m \u001b[43marr_discretized\u001b[49m\u001b[43m[\u001b[49m\u001b[43m:\u001b[49m\u001b[43m,\u001b[49m\u001b[43m \u001b[49m\u001b[43mcolumn\u001b[49m\u001b[43m]\u001b[49m \u001b[38;5;241m==\u001b[39m val\n\u001b[0;32m    307\u001b[0m \u001b[38;5;28mself\u001b[39m\u001b[38;5;241m.\u001b[39m_add_column(cols_ids_bic, rows_ids_bic, column, rows)\n\u001b[0;32m    308\u001b[0m \u001b[38;5;66;03m# If even the best column does not share enough with the bicluster we can stop\u001b[39;00m\n",
      "\u001b[1;31mIndexError\u001b[0m: only integers, slices (`:`), ellipsis (`...`), numpy.newaxis (`None`) and integer or boolean arrays are valid indices"
     ]
    }
   ],
   "source": [
    "a = np.random.randint(0,3, (10, 10))\n",
    "res = Hbic(min_cols = 2, min_rows = 2, reduction = \"selection\", n_clusters = 1)\n",
    "bic = res.fit_predict(a)\n",
    "bic, res.score"
   ]
  },
  {
   "cell_type": "code",
   "execution_count": 3,
   "id": "c79a66c7",
   "metadata": {},
   "outputs": [
    {
     "name": "stdout",
     "output_type": "stream",
     "text": [
      "The identified bicluster is \n",
      " [[1 0 0]\n",
      " [1 0 0]\n",
      " [1 0 0]]\n"
     ]
    }
   ],
   "source": [
    "print(\"The identified bicluster is \\n\", a[np.ix_(bic[0][0], bic[0][1])])"
   ]
  },
  {
   "cell_type": "code",
   "execution_count": 4,
   "id": "38a38d63",
   "metadata": {},
   "outputs": [
    {
     "name": "stderr",
     "output_type": "stream",
     "text": [
      "100%|████████████████████████████████████████████████████████████████████████████████| 300/300 [00:36<00:00,  8.26it/s]\n"
     ]
    },
    {
     "data": {
      "text/plain": [
       "(0.6907837311256366, 1.0, 0.6717667871123155, 0.5187065148640102)"
      ]
     },
     "execution_count": 4,
     "metadata": {},
     "output_type": "execute_result"
    }
   ],
   "source": [
    "datafile = \"datasets/het-data/hn3/number_3_10_data.csv\"\n",
    "varfile = \"datasets/het-data/hn3/number_3_10_vars.csv\"\n",
    "#mapping categorical variables to their int id\n",
    "df = pd.read_csv(datafile)\n",
    "for i in df.columns:\n",
    "    if pd.api.types.is_string_dtype(df[i]):\n",
    "        df[i] = df[i].astype(\"category\").cat.codes\n",
    "var_type = pd.read_csv(varfile)\n",
    "var_type = list(var_type[\"var_dtype\"])\n",
    "arr = df.to_numpy()\n",
    "\n",
    "res = hbic.Hbic(min_rows = .03, min_cols = .03, verbose = True, reduction = \"auto_select\") \n",
    "bic = res.fit_predict(arr, var_type)\n",
    "ref_bic = measure.get_ref_biclusters(3, arr.shape)\n",
    "\n",
    "\n",
    "measure.prelic_relevance(bic, ref_bic), measure.prelic_recovery(bic, ref_bic),  measure.l_and_w(bic,ref_bic), measure.ayadi(bic, ref_bic) "
   ]
  },
  {
   "cell_type": "code",
   "execution_count": 5,
   "id": "c8ac493d",
   "metadata": {},
   "outputs": [
    {
     "name": "stderr",
     "output_type": "stream",
     "text": [
      "100%|████████████████████████████████████████████████████████████████████████████████| 200/200 [00:11<00:00, 17.72it/s]\n"
     ]
    },
    {
     "data": {
      "text/plain": [
       "1"
      ]
     },
     "execution_count": 5,
     "metadata": {},
     "output_type": "execute_result"
    }
   ],
   "source": [
    "df = pd.read_csv(\"datasets/padilha_constant/original/original1.txt\", delimiter='\\t')\n",
    "df = df.drop('GENES', axis = 1)\n",
    "arr = df.to_numpy()\n",
    "res = hbic.Hbic( verbose = True, reduction = \"merge\", n_clusters = 1) \n",
    "bic = res.fit_predict(arr)\n",
    "len(bic)"
   ]
  }
 ],
 "metadata": {
  "kernelspec": {
   "display_name": "Python 3 (ipykernel)",
   "language": "python",
   "name": "python3"
  },
  "language_info": {
   "codemirror_mode": {
    "name": "ipython",
    "version": 3
   },
   "file_extension": ".py",
   "mimetype": "text/x-python",
   "name": "python",
   "nbconvert_exporter": "python",
   "pygments_lexer": "ipython3",
   "version": "3.9.15"
  }
 },
 "nbformat": 4,
 "nbformat_minor": 5
}
