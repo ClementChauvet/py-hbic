{
 "cells": [
  {
   "cell_type": "code",
   "execution_count": 25,
   "metadata": {},
   "outputs": [],
   "source": [
    "import pandas as pd \n",
    "import numpy as np\n",
    "import os\n",
    "import json\n",
    "from hbic import Hbic\n",
    "from hbic.utils import metrics \n",
    "from tqdm import tqdm\n",
    "import time"
   ]
  },
  {
   "cell_type": "code",
   "execution_count": 28,
   "metadata": {},
   "outputs": [
    {
     "name": "stderr",
     "output_type": "stream",
     "text": [
      "Exp:EXP1_Heterogeneity_Level: 0it [00:00, ?it/s]\n"
     ]
    },
    {
     "ename": "InvalidIndexError",
     "evalue": "(slice(None, None, None), 0)",
     "output_type": "error",
     "traceback": [
      "\u001b[1;31m---------------------------------------------------------------------------\u001b[0m",
      "\u001b[1;31mTypeError\u001b[0m                                 Traceback (most recent call last)",
      "File \u001b[1;32mc:\\Users\\chauv\\.conda\\envs\\py39\\lib\\site-packages\\pandas\\core\\indexes\\base.py:3803\u001b[0m, in \u001b[0;36mIndex.get_loc\u001b[1;34m(self, key, method, tolerance)\u001b[0m\n\u001b[0;32m   3802\u001b[0m \u001b[38;5;28;01mtry\u001b[39;00m:\n\u001b[1;32m-> 3803\u001b[0m     \u001b[38;5;28;01mreturn\u001b[39;00m \u001b[38;5;28;43mself\u001b[39;49m\u001b[38;5;241;43m.\u001b[39;49m\u001b[43m_engine\u001b[49m\u001b[38;5;241;43m.\u001b[39;49m\u001b[43mget_loc\u001b[49m\u001b[43m(\u001b[49m\u001b[43mcasted_key\u001b[49m\u001b[43m)\u001b[49m\n\u001b[0;32m   3804\u001b[0m \u001b[38;5;28;01mexcept\u001b[39;00m \u001b[38;5;167;01mKeyError\u001b[39;00m \u001b[38;5;28;01mas\u001b[39;00m err:\n",
      "File \u001b[1;32mc:\\Users\\chauv\\.conda\\envs\\py39\\lib\\site-packages\\pandas\\_libs\\index.pyx:138\u001b[0m, in \u001b[0;36mpandas._libs.index.IndexEngine.get_loc\u001b[1;34m()\u001b[0m\n",
      "File \u001b[1;32mc:\\Users\\chauv\\.conda\\envs\\py39\\lib\\site-packages\\pandas\\_libs\\index.pyx:144\u001b[0m, in \u001b[0;36mpandas._libs.index.IndexEngine.get_loc\u001b[1;34m()\u001b[0m\n",
      "\u001b[1;31mTypeError\u001b[0m: '(slice(None, None, None), 0)' is an invalid key",
      "\nDuring handling of the above exception, another exception occurred:\n",
      "\u001b[1;31mInvalidIndexError\u001b[0m                         Traceback (most recent call last)",
      "Cell \u001b[1;32mIn[28], line 65\u001b[0m\n\u001b[0;32m     63\u001b[0m results \u001b[38;5;241m=\u001b[39m []\n\u001b[0;32m     64\u001b[0m \u001b[38;5;28;01mfor\u001b[39;00m experiment \u001b[38;5;129;01min\u001b[39;00m experiments:\n\u001b[1;32m---> 65\u001b[0m     res \u001b[38;5;241m=\u001b[39m \u001b[43mrun_experiment\u001b[49m\u001b[43m(\u001b[49m\u001b[43mexperiment\u001b[49m\u001b[43m)\u001b[49m\n\u001b[0;32m     66\u001b[0m     results\u001b[38;5;241m.\u001b[39mappend(res)\n",
      "Cell \u001b[1;32mIn[28], line 53\u001b[0m, in \u001b[0;36mrun_experiment\u001b[1;34m(experiment)\u001b[0m\n\u001b[0;32m     51\u001b[0m start \u001b[38;5;241m=\u001b[39m time\u001b[38;5;241m.\u001b[39mtime()\n\u001b[0;32m     52\u001b[0m hbic \u001b[38;5;241m=\u001b[39m Hbic(reduction\u001b[38;5;241m=\u001b[39mreduction, min_cols\u001b[38;5;241m=\u001b[39m\u001b[38;5;241m2\u001b[39m, min_rows\u001b[38;5;241m=\u001b[39m\u001b[38;5;241m2\u001b[39m)\n\u001b[1;32m---> 53\u001b[0m biclusters \u001b[38;5;241m=\u001b[39m \u001b[43mhbic\u001b[49m\u001b[38;5;241;43m.\u001b[39;49m\u001b[43mfit_predict\u001b[49m\u001b[43m(\u001b[49m\u001b[43marr\u001b[49m\u001b[43m,\u001b[49m\u001b[43m \u001b[49m\u001b[43mvar_type\u001b[49m\u001b[38;5;241;43m=\u001b[39;49m\u001b[43m[\u001b[49m\u001b[38;5;124;43m\"\u001b[39;49m\u001b[38;5;124;43m\"\u001b[39;49m\u001b[43m]\u001b[49m\u001b[43m)\u001b[49m\n\u001b[0;32m     54\u001b[0m dic \u001b[38;5;241m=\u001b[39m score_biclusters(biclusters, ref)\n\u001b[0;32m     55\u001b[0m dic[\u001b[38;5;124m\"\u001b[39m\u001b[38;5;124mexperiment\u001b[39m\u001b[38;5;124m\"\u001b[39m] \u001b[38;5;241m=\u001b[39m experiment\n",
      "File \u001b[1;32mc:\\users\\chauv\\documents\\github\\py-hbic\\hbic\\hbic.py:314\u001b[0m, in \u001b[0;36mfit_predict\u001b[1;34m(self, data, var_type)\u001b[0m\n\u001b[0;32m    305\u001b[0m \u001b[38;5;28;01mdef\u001b[39;00m \u001b[38;5;21mfit_predict\u001b[39m(\u001b[38;5;28mself\u001b[39m, data, var_type\u001b[38;5;241m=\u001b[39m\u001b[38;5;124m\"\u001b[39m\u001b[38;5;124mNumeric\u001b[39m\u001b[38;5;124m\"\u001b[39m):\n\u001b[0;32m    306\u001b[0m \u001b[38;5;250m    \u001b[39m\u001b[38;5;124;03m\"\"\"\u001b[39;00m\n\u001b[0;32m    307\u001b[0m \u001b[38;5;124;03m    Use the Hbic algorithm and returns biclusters\u001b[39;00m\n\u001b[0;32m    308\u001b[0m \n\u001b[0;32m    309\u001b[0m \u001b[38;5;124;03m    :param data: numpy.array containing all the data\u001b[39;00m\n\u001b[0;32m    310\u001b[0m \u001b[38;5;124;03m    :param var_type: list of int indicating the type of each column of data\u001b[39;00m\n\u001b[0;32m    311\u001b[0m \n\u001b[0;32m    312\u001b[0m \u001b[38;5;124;03m    :return: list containing pairs of 1D numpy.array for each bicluster,  the\u001b[39;00m\n\u001b[0;32m    313\u001b[0m \u001b[38;5;124;03m    first array is a mask on the rows and the second is a mask on the columns\u001b[39;00m\n\u001b[1;32m--> 314\u001b[0m \u001b[38;5;124;03m    \"\"\"\u001b[39;00m\n\u001b[0;32m    316\u001b[0m     \u001b[38;5;28mself\u001b[39m\u001b[38;5;241m.\u001b[39mfit(data, var_type)\n\u001b[0;32m    318\u001b[0m     \u001b[38;5;28;01mreturn\u001b[39;00m \u001b[38;5;28mself\u001b[39m\u001b[38;5;241m.\u001b[39mbiclusters\n",
      "File \u001b[1;32mc:\\users\\chauv\\documents\\github\\py-hbic\\hbic\\hbic.py:253\u001b[0m, in \u001b[0;36mfit\u001b[1;34m(self, data, var_type)\u001b[0m\n\u001b[0;32m    251\u001b[0m \u001b[38;5;28mself\u001b[39m\u001b[38;5;241m.\u001b[39mn_mincols \u001b[38;5;241m=\u001b[39m \u001b[38;5;28mmax\u001b[39m(\u001b[38;5;28mint\u001b[39m(n_cols \u001b[38;5;241m*\u001b[39m \u001b[38;5;28mself\u001b[39m\u001b[38;5;241m.\u001b[39mmin_cols_prop), \u001b[38;5;28mself\u001b[39m\u001b[38;5;241m.\u001b[39mmin_cols_abs)\n\u001b[0;32m    252\u001b[0m \u001b[38;5;28mself\u001b[39m\u001b[38;5;241m.\u001b[39mn_minrows \u001b[38;5;241m=\u001b[39m \u001b[38;5;28mmax\u001b[39m(\u001b[38;5;28mint\u001b[39m(n_rows \u001b[38;5;241m*\u001b[39m \u001b[38;5;28mself\u001b[39m\u001b[38;5;241m.\u001b[39mmin_rows_prop), \u001b[38;5;28mself\u001b[39m\u001b[38;5;241m.\u001b[39mmin_rows_abs)\n\u001b[1;32m--> 253\u001b[0m \u001b[38;5;28mself\u001b[39m\u001b[38;5;241m.\u001b[39mbiclusters \u001b[38;5;241m=\u001b[39m []\n\u001b[0;32m    255\u001b[0m arr_discretized \u001b[38;5;241m=\u001b[39m discretization\u001b[38;5;241m.\u001b[39mdiscretize(data, \u001b[38;5;28mself\u001b[39m\u001b[38;5;241m.\u001b[39mnbins, var_type)\n\u001b[0;32m    257\u001b[0m \u001b[38;5;66;03m# We consider each column and each value of each column as a starting point\u001b[39;00m\n",
      "File \u001b[1;32mc:\\users\\chauv\\documents\\github\\py-hbic\\hbic\\utils\\discretization.py:21\u001b[0m, in \u001b[0;36mdiscretize\u001b[1;34m(data, nbins, var_type)\u001b[0m\n\u001b[0;32m     19\u001b[0m         output_arr[:, col_index] \u001b[38;5;241m=\u001b[39m np\u001b[38;5;241m.\u001b[39mdigitize(data[:, col_index], bins) \u001b[38;5;241m-\u001b[39m \u001b[38;5;241m1\u001b[39m\n\u001b[0;32m     20\u001b[0m     \u001b[38;5;28;01melse\u001b[39;00m:\n\u001b[1;32m---> 21\u001b[0m         _, inverse \u001b[38;5;241m=\u001b[39m np\u001b[38;5;241m.\u001b[39munique(\u001b[43mdata\u001b[49m\u001b[43m[\u001b[49m\u001b[43m:\u001b[49m\u001b[43m,\u001b[49m\u001b[43mcol_index\u001b[49m\u001b[43m]\u001b[49m, return_inverse \u001b[38;5;241m=\u001b[39m \u001b[38;5;28;01mTrue\u001b[39;00m)\n\u001b[0;32m     22\u001b[0m         output_arr[:, col_index] \u001b[38;5;241m=\u001b[39m inverse\n\u001b[0;32m     24\u001b[0m \u001b[38;5;28;01mreturn\u001b[39;00m output_arr\n",
      "File \u001b[1;32mc:\\Users\\chauv\\.conda\\envs\\py39\\lib\\site-packages\\pandas\\core\\frame.py:3805\u001b[0m, in \u001b[0;36mDataFrame.__getitem__\u001b[1;34m(self, key)\u001b[0m\n\u001b[0;32m   3803\u001b[0m \u001b[38;5;28;01mif\u001b[39;00m \u001b[38;5;28mself\u001b[39m\u001b[38;5;241m.\u001b[39mcolumns\u001b[38;5;241m.\u001b[39mnlevels \u001b[38;5;241m>\u001b[39m \u001b[38;5;241m1\u001b[39m:\n\u001b[0;32m   3804\u001b[0m     \u001b[38;5;28;01mreturn\u001b[39;00m \u001b[38;5;28mself\u001b[39m\u001b[38;5;241m.\u001b[39m_getitem_multilevel(key)\n\u001b[1;32m-> 3805\u001b[0m indexer \u001b[38;5;241m=\u001b[39m \u001b[38;5;28;43mself\u001b[39;49m\u001b[38;5;241;43m.\u001b[39;49m\u001b[43mcolumns\u001b[49m\u001b[38;5;241;43m.\u001b[39;49m\u001b[43mget_loc\u001b[49m\u001b[43m(\u001b[49m\u001b[43mkey\u001b[49m\u001b[43m)\u001b[49m\n\u001b[0;32m   3806\u001b[0m \u001b[38;5;28;01mif\u001b[39;00m is_integer(indexer):\n\u001b[0;32m   3807\u001b[0m     indexer \u001b[38;5;241m=\u001b[39m [indexer]\n",
      "File \u001b[1;32mc:\\Users\\chauv\\.conda\\envs\\py39\\lib\\site-packages\\pandas\\core\\indexes\\base.py:3810\u001b[0m, in \u001b[0;36mIndex.get_loc\u001b[1;34m(self, key, method, tolerance)\u001b[0m\n\u001b[0;32m   3805\u001b[0m         \u001b[38;5;28;01mraise\u001b[39;00m \u001b[38;5;167;01mKeyError\u001b[39;00m(key) \u001b[38;5;28;01mfrom\u001b[39;00m \u001b[38;5;21;01merr\u001b[39;00m\n\u001b[0;32m   3806\u001b[0m     \u001b[38;5;28;01mexcept\u001b[39;00m \u001b[38;5;167;01mTypeError\u001b[39;00m:\n\u001b[0;32m   3807\u001b[0m         \u001b[38;5;66;03m# If we have a listlike key, _check_indexing_error will raise\u001b[39;00m\n\u001b[0;32m   3808\u001b[0m         \u001b[38;5;66;03m#  InvalidIndexError. Otherwise we fall through and re-raise\u001b[39;00m\n\u001b[0;32m   3809\u001b[0m         \u001b[38;5;66;03m#  the TypeError.\u001b[39;00m\n\u001b[1;32m-> 3810\u001b[0m         \u001b[38;5;28;43mself\u001b[39;49m\u001b[38;5;241;43m.\u001b[39;49m\u001b[43m_check_indexing_error\u001b[49m\u001b[43m(\u001b[49m\u001b[43mkey\u001b[49m\u001b[43m)\u001b[49m\n\u001b[0;32m   3811\u001b[0m         \u001b[38;5;28;01mraise\u001b[39;00m\n\u001b[0;32m   3813\u001b[0m \u001b[38;5;66;03m# GH#42269\u001b[39;00m\n",
      "File \u001b[1;32mc:\\Users\\chauv\\.conda\\envs\\py39\\lib\\site-packages\\pandas\\core\\indexes\\base.py:5968\u001b[0m, in \u001b[0;36mIndex._check_indexing_error\u001b[1;34m(self, key)\u001b[0m\n\u001b[0;32m   5964\u001b[0m \u001b[38;5;28;01mdef\u001b[39;00m \u001b[38;5;21m_check_indexing_error\u001b[39m(\u001b[38;5;28mself\u001b[39m, key):\n\u001b[0;32m   5965\u001b[0m     \u001b[38;5;28;01mif\u001b[39;00m \u001b[38;5;129;01mnot\u001b[39;00m is_scalar(key):\n\u001b[0;32m   5966\u001b[0m         \u001b[38;5;66;03m# if key is not a scalar, directly raise an error (the code below\u001b[39;00m\n\u001b[0;32m   5967\u001b[0m         \u001b[38;5;66;03m# would convert to numpy arrays and raise later any way) - GH29926\u001b[39;00m\n\u001b[1;32m-> 5968\u001b[0m         \u001b[38;5;28;01mraise\u001b[39;00m InvalidIndexError(key)\n",
      "\u001b[1;31mInvalidIndexError\u001b[0m: (slice(None, None, None), 0)"
     ]
    }
   ],
   "source": [
    "def get_experiment_list(root):\n",
    "    experiments = os.listdir(root)\n",
    "    return experiments\n",
    "\n",
    "def preprocess_ref_json(refs):\n",
    "    keys = set(refs.keys())\n",
    "    bic_keys = keys.intersection({\"biclusters\", \"SymbolicBiclusters\", \"NumericBiclusters\"})\n",
    "    X, Y = [], []\n",
    "    for key in bic_keys:\n",
    "        for bic in refs[key]:\n",
    "            X.append(refs[key][bic][\"X\"])\n",
    "            Y.append(refs[key][bic][\"Y\"])\n",
    "    X = [np.where(x)[0] for x in X]\n",
    "    Y = [np.where(y)[0] for y in Y]\n",
    "    return X, Y\n",
    "\n",
    "def load_experiment(experiment):\n",
    "    path = os.path.join(root, experiment)\n",
    "    files = os.listdir(path)\n",
    "    experiment_arrays = []\n",
    "    experiment_biclusters = []\n",
    "    for file in files:\n",
    "        if file.endswith('.tsv'):\n",
    "            experiment_arrays.append(pd.read_csv(os.path.join(path, file), sep = '\\t'))\n",
    "        if file.endswith('.json'):\n",
    "            with open(os.path.join(path, file)) as f:\n",
    "                experiment_biclusters.append(json.load(f))\n",
    "    experiment_arrays = [(arr, preprocess_ref_json(ref)) for arr, ref in zip(experiment_arrays, experiment_biclusters)]\n",
    "    return experiment_arrays\n",
    "\n",
    "def score_biclusters(biclusters, ref_bic, reduction):\n",
    "    dic = {}\n",
    "    dic[\"experiment\"] = directory\n",
    "    dic[\"reduce\"] = reduction\n",
    "    dic[\"rel\"] = metrics.prelic_relevance(biclusters, ref_bic)\n",
    "    dic[\"nb_bics\"] = len(biclusters)\n",
    "    dic[\"rec\"] = metrics.prelic_recovery(biclusters, ref_bic)\n",
    "    dic[\"l_and_w\"] = metrics.l_and_w(biclusters,ref_bic)\n",
    "    dic[\"ayadi\"] = metrics.ayadi(biclusters, ref_bic)\n",
    "    return dic\n",
    "\n",
    "root = \"datasets/GBIC/\"\n",
    "\n",
    "\n",
    "def run_experiment(experiment):\n",
    "    data = load_experiment(experiment)\n",
    "    for nb_exp,exp in tqdm(enumerate(data), desc=\"Exp:\"+str(experiment)):\n",
    "        arr, ref = exp\n",
    "        results = []\n",
    "        for reduction in [\"distance\",\"pareto\", None]:\n",
    "            start = time.time()\n",
    "            hbic = Hbic(reduction=reduction, min_cols=2, min_rows=2)\n",
    "            biclusters = hbic.fit_predict(arr, var_type=[\"\"])\n",
    "            dic = score_biclusters(biclusters, ref)\n",
    "            dic[\"experiment\"] = experiment\n",
    "            dic[\"instance\"] = nb_exp\n",
    "            dic[\"time\"] = time.time()-start\n",
    "            results.append(dic)   \n",
    "    return results\n",
    "\n",
    "if __name__ == \"__main__\":\n",
    "    experiments = get_experiment_list(root)\n",
    "    results = []\n",
    "    for experiment in experiments:\n",
    "        res = run_experiment(experiment)\n",
    "        results.append(res)"
   ]
  },
  {
   "cell_type": "code",
   "execution_count": 27,
   "metadata": {},
   "outputs": [
    {
     "data": {
      "text/plain": [
       "<module 'time' (built-in)>"
      ]
     },
     "execution_count": 27,
     "metadata": {},
     "output_type": "execute_result"
    }
   ],
   "source": [
    "time"
   ]
  }
 ],
 "metadata": {
  "kernelspec": {
   "display_name": "py39",
   "language": "python",
   "name": "python3"
  },
  "language_info": {
   "codemirror_mode": {
    "name": "ipython",
    "version": 3
   },
   "file_extension": ".py",
   "mimetype": "text/x-python",
   "name": "python",
   "nbconvert_exporter": "python",
   "pygments_lexer": "ipython3",
   "version": "3.9.15"
  }
 },
 "nbformat": 4,
 "nbformat_minor": 2
}
