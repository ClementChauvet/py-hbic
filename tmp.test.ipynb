{
 "cells": [
  {
   "cell_type": "code",
   "execution_count": 39,
   "metadata": {},
   "outputs": [],
   "source": [
    "import pandas as pd\n",
    "from hbic import Hbic\n",
    "from hbic.utils import discretize\n",
    "df = pd.read_csv(\"C:/Users/chauv/Downloads/HBIC-toi_dataset/hetdata.csv\")\n",
    "arr = df.to_numpy()\n"
   ]
  },
  {
   "cell_type": "code",
   "execution_count": 2,
   "metadata": {},
   "outputs": [],
   "source": [
    "res = Hbic( verbose = False, nbins = 10, min_cols=2, min_rows= 2) \n",
    "bic = res.fit_predict(arr, var_type= [\"Categorical\"] * 6)"
   ]
  },
  {
   "cell_type": "code",
   "execution_count": 3,
   "metadata": {},
   "outputs": [
    {
     "data": {
      "text/plain": [
       "7"
      ]
     },
     "execution_count": 3,
     "metadata": {},
     "output_type": "execute_result"
    }
   ],
   "source": [
    "len(bic)"
   ]
  },
  {
   "cell_type": "code",
   "execution_count": 4,
   "metadata": {},
   "outputs": [
    {
     "name": "stdout",
     "output_type": "stream",
     "text": [
      "[['e' 'a' 'a']\n",
      " ['e' 'a' 'a']]\n",
      "[['a' 'a']\n",
      " ['a' 'a']\n",
      " ['a' 'a']]\n",
      "[['b' 'a' 1 1]\n",
      " ['b' 'a' 1 1]]\n",
      "[['a' 1 1]\n",
      " ['a' 1 1]\n",
      " ['a' 1 1]]\n",
      "[['a' 'a' 'e']\n",
      " ['a' 'a' 'e']]\n",
      "[[1 1]\n",
      " [1 1]\n",
      " [1 1]\n",
      " [1 1]]\n",
      "[['a' 'a' 3]\n",
      " ['a' 'a' 3]]\n"
     ]
    }
   ],
   "source": [
    "for b in bic:\n",
    "    print(arr[b[0],:][:, b[1]])"
   ]
  },
  {
   "cell_type": "code",
   "execution_count": null,
   "metadata": {},
   "outputs": [],
   "source": []
  },
  {
   "cell_type": "code",
   "execution_count": 40,
   "metadata": {},
   "outputs": [],
   "source": [
    "import pandas as pd\n",
    "from hbic import Hbic\n",
    "from hbic.utils import discretize\n",
    "df = pd.read_csv(\"C:/Users/chauv/Downloads/hetdata50_nbins5_01_data.csv\", sep = '\\t')\n",
    "arr = df.to_numpy()[:, 1:]\n"
   ]
  },
  {
   "cell_type": "code",
   "execution_count": 41,
   "metadata": {},
   "outputs": [
    {
     "data": {
      "text/plain": [
       "(500, 300)"
      ]
     },
     "execution_count": 41,
     "metadata": {},
     "output_type": "execute_result"
    }
   ],
   "source": [
    "arr.shape"
   ]
  },
  {
   "cell_type": "code",
   "execution_count": 43,
   "metadata": {},
   "outputs": [
    {
     "name": "stderr",
     "output_type": "stream",
     "text": [
      "100%|██████████| 300/300 [02:01<00:00,  2.46it/s]\n"
     ]
    }
   ],
   "source": [
    "model = Hbic( verbose = True, nbins = 10)\n",
    "res = model.fit_predict(arr, var_type= [\"Numeric\"] * 150 + [\"Categorical\"] * 150)"
   ]
  },
  {
   "cell_type": "code",
   "execution_count": null,
   "metadata": {},
   "outputs": [
    {
     "data": {
      "text/plain": [
       "5"
      ]
     },
     "execution_count": 16,
     "metadata": {},
     "output_type": "execute_result"
    }
   ],
   "source": [
    "len(res)"
   ]
  },
  {
   "cell_type": "code",
   "execution_count": null,
   "metadata": {},
   "outputs": [],
   "source": [
    "refs = [([30,38,48,55,62,76,78,90,138,151,183,200,201,209,253,271,292,297,311,321,397,443,455,459,466,467,479,495,498,499], [2,4,12,16,24,28,35,47,50,55,57,58,59,60,66,68,69,84,86,88,89,93,108,112,130,134,138,141,145,149]),\n",
    "([26,53,76,93,94,97,124,126,150,165,171,173,264,311,315,324,331,334,352,383,411,419,442,449,451,454,460,480,487,488], [1,3,13,20,26,29,33,36,39,42,44,51,62,65,70,76,82,96,97,98,102,106,111,115,120,125,128,133,136,143]),\n",
    "([0,25,30,36,45,102,131,154,171,188,208,215,222,248,258,285,334,346,352,357,359,377,400,411,419,445,453,456,462,471], [150,153,155,157,159,163,167,172,173,178,181,192,194,206,215,228,229,230,237,239,250,252,266,267,268,269,273,274,295,298]),\n",
    "([9,27,40,56,58,62,112,151,161,173,192,197,201,205,212,235,262,314,318,331,337,383,393,395,405,439,440,442,459,483], [9,14,15,17,22,30,32,54,77,90,100,103,105,110,114,118,123,137,166,170,175,199,205,210,213,220,241,248,249,284]),\n",
    "([3,29,31,58,80,104,114,176,200,216,261,263,286,289,291,296,301,316,321,324,351,352,391,405,406,424,427,465,471,482],[0,40,83,109,121,132,158,171,176,177,179,187,190,193,196,198,202,203,221,224,238,251,258,262,263,265,281,285,287,292])]"
   ]
  },
  {
   "cell_type": "code",
   "execution_count": null,
   "metadata": {},
   "outputs": [],
   "source": [
    "import numpy as np\n",
    "bics_format = []\n",
    "for b in res:\n",
    "    bics_format.append((np.where(b[0])[0], np.where(b[1])[0]))"
   ]
  },
  {
   "cell_type": "code",
   "execution_count": null,
   "metadata": {},
   "outputs": [
    {
     "name": "stdout",
     "output_type": "stream",
     "text": [
      "Found\n",
      "Found\n",
      "Found\n",
      "Found\n",
      "Found\n"
     ]
    }
   ],
   "source": [
    "for bic in bics_format:\n",
    "    for ref in refs:\n",
    "        if np.array_equal(bic[0], ref[0]) and np.array_equal(bic[1], ref[1]):\n",
    "            print(\"Found\")\n",
    "            break"
   ]
  },
  {
   "cell_type": "code",
   "execution_count": 26,
   "metadata": {},
   "outputs": [
    {
     "data": {
      "text/plain": [
       "True"
      ]
     },
     "execution_count": 26,
     "metadata": {},
     "output_type": "execute_result"
    }
   ],
   "source": [
    "np.array_equal([0],np.zeros(1))"
   ]
  }
 ],
 "metadata": {
  "kernelspec": {
   "display_name": "py39",
   "language": "python",
   "name": "python3"
  },
  "language_info": {
   "codemirror_mode": {
    "name": "ipython",
    "version": 3
   },
   "file_extension": ".py",
   "mimetype": "text/x-python",
   "name": "python",
   "nbconvert_exporter": "python",
   "pygments_lexer": "ipython3",
   "version": "3.9.15"
  }
 },
 "nbformat": 4,
 "nbformat_minor": 2
}
